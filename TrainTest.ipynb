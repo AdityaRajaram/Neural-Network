{
 "cells": [
  {
   "cell_type": "code",
   "execution_count": 1,
   "metadata": {},
   "outputs": [],
   "source": [
    "# Importing Libraries\n",
    "import os\n",
    "import cv2\n",
    "import numpy as np\n",
    "import joblib\n",
    "import random\n",
    "import matplotlib.pyplot as plt"
   ]
  },
  {
   "cell_type": "code",
   "execution_count": 2,
   "metadata": {},
   "outputs": [],
   "source": [
    "# get the current directory location\n",
    "currentWorkingDirectory = os.getcwd()\n"
   ]
  },
  {
   "cell_type": "code",
   "execution_count": 3,
   "metadata": {},
   "outputs": [],
   "source": [
    "# adding all category to this list\n",
    "categories = [\"crusier\", \"off road bikes\", \"scooter\"]"
   ]
  },
  {
   "cell_type": "code",
   "execution_count": 4,
   "metadata": {},
   "outputs": [],
   "source": [
    "# getting data ready for training and testing\n",
    "\n",
    "X = []  # used for storing input values\n",
    "y = []  # used for storing output value\n",
    "\n",
    "# for each category\n",
    "for categoryLabel, category in enumerate(categories):\n",
    "    \n",
    "    # change current working directory to particular category folder\n",
    "    os.chdir(f\"{currentWorkingDirectory}/dataset/preprocessedData/{category}\")\n",
    "    \n",
    "    # for each image\n",
    "    for img in os.listdir():\n",
    "        \n",
    "        # read image in gray scale\n",
    "        image = cv2.imread(img, cv2.IMREAD_GRAYSCALE)\n",
    "        \n",
    "        # convert (48 * 48) image shape to (2304, 1) shape using ravel function\n",
    "        image = image.ravel()\n",
    "        \n",
    "        # standard scaling between 0 to 1 by dividing 255\n",
    "        image = image / 255\n",
    "        \n",
    "        X.append(image)\n",
    "        \n",
    "        y.append(categoryLabel)\n",
    "        \n",
    "# joining both input and output data\n",
    "data = list(zip(X, y))\n",
    "\n",
    "random.shuffle(data)  # shuffle the data to get different datas\n",
    "\n",
    "totalSize = len(data)\n",
    "trainSize = int(totalSize * 0.8)\n",
    "\n",
    "X, y = zip(*data)  # convert back to input and output data\n",
    "\n",
    "# split the data into train and test data\n",
    "X_train, y_train = X[:trainSize], y[:trainSize]\n",
    "X_test, y_test = X[trainSize:], y[trainSize:]\n",
    "\n",
    "# convert it into numpy array\n",
    "X_train = np.array(X_train)\n",
    "X_test = np.array(X_test)\n",
    "\n",
    "y_train = np.array(y_train)\n",
    "y_test = np.array(y_test)\n",
    "\n",
    "# finally change directory to current working directory\n",
    "os.chdir(currentWorkingDirectory)"
   ]
  },
  {
   "cell_type": "code",
   "execution_count": 5,
   "metadata": {},
   "outputs": [
    {
     "name": "stdout",
     "output_type": "stream",
     "text": [
      "X_train shape: (52, 2304)\n",
      "y_train shape: (52,)\n",
      "X_test shape: (13, 2304)\n",
      "y_test.shape: (13,)\n"
     ]
    }
   ],
   "source": [
    "print(f\"X_train shape: {X_train.shape}\")\n",
    "print(f\"y_train shape: {y_train.shape}\")\n",
    "print(f\"X_test shape: {X_test.shape}\")\n",
    "print(f\"y_test.shape: {y_test.shape}\")\n"
   ]
  },
  {
   "cell_type": "code",
   "execution_count": 6,
   "metadata": {},
   "outputs": [
    {
     "name": "stdout",
     "output_type": "stream",
     "text": [
      "Category: off road bikes\n"
     ]
    },
    {
     "data": {
      "text/plain": [
       "<matplotlib.image.AxesImage at 0x7f61116c5a10>"
      ]
     },
     "execution_count": 6,
     "metadata": {},
     "output_type": "execute_result"
    },
    {
     "data": {
      "image/png": "[encoded data removed]",
      "text/plain": [
       "<Figure size 432x288 with 1 Axes>"
      ]
     },
     "metadata": {
      "needs_background": "light"
     },
     "output_type": "display_data"
    }
   ],
   "source": [
    "# displaying a random image with its category label\n",
    "i = random.randint(0, 16)  # random index \n",
    "\n",
    "sample = X_train[i].reshape((48, 48))  # reshape the data to 2-dimention\n",
    "\n",
    "print(f\"Category: {categories[int(y_train[i])]}\")\n",
    "\n",
    "plt.imshow(sample, cmap='gray')"
   ]
  },
  {
   "cell_type": "code",
   "execution_count": 7,
   "metadata": {},
   "outputs": [],
   "source": [
    "# calculating distance between two images\n",
    "# Euclidean distance\n",
    "\n",
    "def getDistance(x1, x2):\n",
    "    total = 0\n",
    "    for i in range(len(x1)):\n",
    "        total += (x1[i] - x2[i]) ** 2\n",
    "    return np.sqrt(total)"
   ]
  },
  {
   "cell_type": "code",
   "execution_count": 8,
   "metadata": {},
   "outputs": [],
   "source": [
    "# calculating centroids using kmeans\n",
    "\n",
    "def kmeans(X, noOfCentroids, maxIterations=100):\n",
    "  \n",
    "    centroids = X[np.random.choice(range(len(X)), noOfCentroids, replace=False)]\n",
    "\n",
    "    converged = False\n",
    "    \n",
    "    currentIteration = 1\n",
    "\n",
    "    # for each iteration\n",
    "    while((not converged) and (currentIteration <= maxIterations)):\n",
    "\n",
    "        clusterList = [[] for i in range(len(centroids))]\n",
    "\n",
    "        for x in X:  # Go through each data point \n",
    "            \n",
    "            distancesList = []\n",
    "            \n",
    "            for centroid in centroids:\n",
    "                distancesList.append(getDistance(centroid, x))\n",
    "                \n",
    "            clusterList[int(np.argmin(distancesList))].append(x)\n",
    "\n",
    "        clusterList = list((filter(None, clusterList)))\n",
    "\n",
    "        prevCentroids = centroids.copy()\n",
    "\n",
    "        centroids = []\n",
    "\n",
    "        for j in range(len(clusterList)):\n",
    "            centroids.append(np.mean(clusterList[j], axis=0))\n",
    "\n",
    "        difference = np.abs(np.sum(prevCentroids) - np.sum(centroids))\n",
    "\n",
    "        print(f\"K-Means difference for {currentIteration} iterations: {int(difference)}\")\n",
    "        converged = (difference == 0)\n",
    "\n",
    "        currentIteration += 1\n",
    "\n",
    "    return np.array(centroids)"
   ]
  },
  {
   "cell_type": "code",
   "execution_count": 9,
   "metadata": {},
   "outputs": [],
   "source": [
    "class RBF:\n",
    "\n",
    "    def __init__(self, X_train, y_train, X_test, y_test, numOfClasses, numOfClusters):\n",
    "        self.X_train = X_train\n",
    "        self.y_train = y_train\n",
    "\n",
    "        self.X_test = X_test\n",
    "        self.y_test = y_test\n",
    "\n",
    "        self.numOfClasses = numOfClasses\n",
    "        self.numOfClusters = numOfClusters\n",
    "\n",
    "        \n",
    "    def convert_to_one_hot(self, x):\n",
    "        arr = np.zeros((len(x), self.numOfClasses))\n",
    "        for i in range(len(x)):\n",
    "            c = int(x[i])\n",
    "            arr[i][c] = 1\n",
    "        return arr\n",
    "\n",
    "    \n",
    "    def rbf(self, x, centroid, s):\n",
    "        distance = getDistance(x, centroid)\n",
    "        return 1 / np.exp(-distance / s ** 2)\n",
    "\n",
    "    \n",
    "    def calculateG(self, X):\n",
    "        RBF_list = []\n",
    "        for x in X:\n",
    "            RBF_list.append([self.rbf(x, c, s) for (c, s) in zip(self.centroids, self.std_list)])\n",
    "        return np.array(RBF_list)\n",
    "\n",
    "\n",
    "    def fit(self):\n",
    "\n",
    "        # calculate centroids\n",
    "        self.centroids = kmeans(self.X_train, self.numOfClusters)\n",
    "\n",
    "        # calculating standard deviation\n",
    "        dMax = np.max([getDistance(c1, c2) for c1 in self.centroids for c2 in self.centroids])\n",
    "        self.std_list = np.repeat(dMax / np.sqrt(2 * self.numOfClusters), self.numOfClusters)\n",
    "        \n",
    "        # training part\n",
    "        G = self.calculateG(self.X_train)\n",
    "    \n",
    "        GTG = np.dot(G.T, G)\n",
    "        \n",
    "        GTG_inv = np.linalg.inv(GTG)\n",
    "        \n",
    "        fac = np.dot(GTG_inv ,G.T)\n",
    "        \n",
    "        self.weights = np.dot(fac, self.convert_to_one_hot(self.y_train))\n",
    "        \n",
    "        # testing part\n",
    "        RBF_list_tst = self.calculateG(self.X_test)\n",
    "\n",
    "        self.pred_ty = np.dot(RBF_list_tst, self.weights)\n",
    "\n",
    "        self.pred_ty = np.array([np.argmax(x) for x in self.pred_ty])\n",
    "\n",
    "        diff = self.pred_ty - self.y_test\n",
    "\n",
    "        print('Accuracy: ', len(np.where(diff == 0)[0]) / len(diff))\n"
   ]
  },
  {
   "cell_type": "code",
   "execution_count": 10,
   "metadata": {},
   "outputs": [
    {
     "name": "stdout",
     "output_type": "stream",
     "text": [
      "K-Means difference for 1 iterations: 142\n",
      "K-Means difference for 2 iterations: 0\n",
      "K-Means difference for 3 iterations: 215\n",
      "K-Means difference for 4 iterations: 439\n",
      "K-Means difference for 5 iterations: 5\n",
      "K-Means difference for 6 iterations: 0\n",
      "Accuracy:  0.46153846153846156\n"
     ]
    }
   ],
   "source": [
    "rbfClassifier = RBF(X_train, y_train, X_test, y_test, len(categories), 6)\n",
    "rbfClassifier.fit()\n",
    "\n"
   ]
  },
  {
   "cell_type": "code",
   "execution_count": 11,
   "metadata": {},
   "outputs": [
    {
     "data": {
      "text/plain": [
       "array([[-2.16571428,  4.423356  , -2.05960786],\n",
       "       [-1.1847379 , -0.06380731,  1.56075395],\n",
       "       [ 3.79287611, -2.91697628, -0.75430714],\n",
       "       [ 1.64153341,  1.71509518, -3.39743031],\n",
       "       [ 2.48205968,  2.68284372, -5.07534659],\n",
       "       [-4.30556622, -5.62294565,  9.93068297]])"
      ]
     },
     "execution_count": 11,
     "metadata": {},
     "output_type": "execute_result"
    }
   ],
   "source": [
    "rbfClassifier.weights\n"
   ]
  },
  {
   "cell_type": "code",
   "execution_count": 12,
   "metadata": {},
   "outputs": [
    {
     "data": {
      "text/plain": [
       "array([[0.99803922, 0.99901961, 0.99901961, ..., 0.99656863, 0.99607843,\n",
       "        0.99558824],\n",
       "       [0.09673203, 0.10718954, 0.10849673, ..., 0.27581699, 0.35294118,\n",
       "        0.32941176],\n",
       "       [0.99607843, 0.99411765, 0.99705882, ..., 0.94901961, 0.96568627,\n",
       "        0.98529412],\n",
       "       [1.        , 1.        , 1.        , ..., 0.99607843, 0.99477124,\n",
       "        0.99869281],\n",
       "       [0.99387255, 0.98602941, 0.99387255, ..., 0.98235294, 0.99338235,\n",
       "        0.98529412],\n",
       "       [0.98126362, 0.9832244 , 0.98518519, ..., 0.98518519, 0.9832244 ,\n",
       "        0.98126362]])"
      ]
     },
     "execution_count": 12,
     "metadata": {},
     "output_type": "execute_result"
    }
   ],
   "source": [
    "rbfClassifier.centroids"
   ]
  },
  {
   "cell_type": "code",
   "execution_count": 13,
   "metadata": {},
   "outputs": [
    {
     "data": {
      "text/plain": [
       "array([7.33890274, 7.33890274, 7.33890274, 7.33890274, 7.33890274,\n",
       "       7.33890274])"
      ]
     },
     "execution_count": 13,
     "metadata": {},
     "output_type": "execute_result"
    }
   ],
   "source": [
    "rbfClassifier.std_list\n"
   ]
  },
  {
   "cell_type": "code",
   "execution_count": null,
   "metadata": {},
   "outputs": [],
   "source": []
  },
  {
   "cell_type": "code",
   "execution_count": null,
   "metadata": {},
   "outputs": [],
   "source": []
  }
 ],
 "metadata": {
  "kernelspec": {
   "display_name": "Python 3",
   "language": "python",
   "name": "python3"
  },
  "language_info": {
   "codemirror_mode": {
    "name": "ipython",
    "version": 3
   },
   "file_extension": ".py",
   "mimetype": "text/x-python",
   "name": "python",
   "nbconvert_exporter": "python",
   "pygments_lexer": "ipython3",
   "version": "3.7.4"
  }
 },
 "nbformat": 4,
 "nbformat_minor": 2
}
