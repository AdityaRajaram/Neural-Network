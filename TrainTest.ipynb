{
 "cells": [
  {
   "cell_type": "code",
   "execution_count": 1,
   "metadata": {},
   "outputs": [],
   "source": [
    "# Importing Libraries\n",
    "import os\n",
    "import cv2\n",
    "import numpy as np\n",
    "import joblib\n",
    "import random\n",
    "import matplotlib.pyplot as plt"
   ]
  },
  {
   "cell_type": "code",
   "execution_count": 2,
   "metadata": {},
   "outputs": [],
   "source": [
    "# get the current directory location\n",
    "currentWorkingDirectory = os.getcwd()\n"
   ]
  },
  {
   "cell_type": "code",
   "execution_count": 3,
   "metadata": {},
   "outputs": [],
   "source": [
    "# adding all category to this list\n",
    "categories = [\"crusier\", \"off road bikes\", \"moped\"]"
   ]
  },
  {
   "cell_type": "code",
   "execution_count": 4,
   "metadata": {},
   "outputs": [],
   "source": [
    "# getting data ready for training and testing\n",
    "\n",
    "X = []  # used for storing input values\n",
    "y = []  # used for storing output value\n",
    "P = []\n",
    "# for each category\n",
    "for categoryLabel, category in enumerate(categories):\n",
    "    \n",
    "    # change current working directory to particular category folder\n",
    "    os.chdir(f\"{currentWorkingDirectory}/dataset/preprocessedData/{category}\")\n",
    "    \n",
    "    # for each image\n",
    "    for img in os.listdir():\n",
    "        \n",
    "        # read image in gray scale\n",
    "        image = cv2.imread(img, cv2.IMREAD_GRAYSCALE)\n",
    "        \n",
    "        # convert (48 * 48) image shape to (2304, 1) shape using ravel function\n",
    "        image = image.ravel()\n",
    "        \n",
    "        # standard scaling between 0 to 1 by dividing 25\n",
    "        image = image / 255\n",
    "        im=image.T\n",
    "        P.append(im)\n",
    "        \n",
    "        X.append(image)\n",
    "        \n",
    "        y.append(categoryLabel)\n",
    "        \n",
    "# joining both input and output data\n",
    "data = list(zip(X, y))\n",
    "\n",
    "\n",
    "random.shuffle(data)  # shuffle the data to get different datas\n",
    "\n",
    "totalSize = len(data)\n",
    "trainSize = int(totalSize * 0.7)\n",
    "\n",
    "X, y = zip(*data)  # convert back to input and output data\n",
    "\n",
    "P_train=P[:totalSize]\n",
    "P_train=np.array(P_train)\n",
    "\n",
    "# split the data into train and test data\n",
    "X_train, y_train = X[:trainSize], y[:trainSize]\n",
    "X_test, y_test = X[trainSize:], y[trainSize:]\n",
    "\n",
    "# convert it into numpy array\n",
    "X_train = np.array(X_train)\n",
    "X_test = np.array(X_test)\n",
    "\n",
    "y_train = np.array(y_train)\n",
    "y_test = np.array(y_test)\n",
    "\n",
    "# finally change directory to current working directory\n",
    "os.chdir(currentWorkingDirectory)"
   ]
  },
  {
   "cell_type": "code",
   "execution_count": 5,
   "metadata": {},
   "outputs": [
    {
     "name": "stdout",
     "output_type": "stream",
     "text": [
      "X_train shape: (105, 2304)\n",
      "y_train shape: (105,)\n",
      "X_test shape: (45, 2304)\n",
      "y_test.shape: (45,)\n",
      "P_train shape: (150, 2304)\n",
      "150\n"
     ]
    }
   ],
   "source": [
    "print(f\"X_train shape: {X_train.shape}\")\n",
    "print(f\"y_train shape: {y_train.shape}\")\n",
    "print(f\"X_test shape: {X_test.shape}\")\n",
    "print(f\"y_test.shape: {y_test.shape}\")\n",
    "print(f\"P_train shape: {P_train.shape}\")\n",
    "print(len(y))\n"
   ]
  },
  {
   "cell_type": "code",
   "execution_count": 6,
   "metadata": {},
   "outputs": [
    {
     "name": "stdout",
     "output_type": "stream",
     "text": [
      "Category: crusier\n"
     ]
    },
    {
     "data": {
      "text/plain": [
       "<matplotlib.image.AxesImage at 0x2b92a3e6c50>"
      ]
     },
     "execution_count": 6,
     "metadata": {},
     "output_type": "execute_result"
    },
    {
     "data": {
      "image/png": "[encoded data removed]",
      "text/plain": [
       "<Figure size 432x288 with 1 Axes>"
      ]
     },
     "metadata": {
      "needs_background": "light"
     },
     "output_type": "display_data"
    }
   ],
   "source": [
    "# displaying a random image with its category label\n",
    "i = random.randint(0, 16)  # random index \n",
    "\n",
    "sample = X_train[i].reshape((48, 48))  # reshape the data to 2-dimention\n",
    "\n",
    "print(f\"Category: {categories[int(y_train[i])]}\")\n",
    "\n",
    "plt.imshow(sample, cmap='gray')"
   ]
  },
  {
   "cell_type": "code",
   "execution_count": 7,
   "metadata": {},
   "outputs": [],
   "source": [
    "# calculating distance between two images\n",
    "# Euclidean distance\n",
    "\n",
    "def getDistance(x1, x2):\n",
    "    total = 0\n",
    "    for i in range(len(x1)):\n",
    "        total += (x1[i] - x2[i]) ** 2\n",
    "    return np.sqrt(total)"
   ]
  },
  {
   "cell_type": "code",
   "execution_count": 8,
   "metadata": {},
   "outputs": [],
   "source": [
    "# calculating centroids using kmeans\n",
    "\n",
    "def kmeans(X, noOfCentroids, maxIterations=100):\n",
    "  \n",
    "    centroids = X[np.random.choice(range(len(X)), noOfCentroids, replace=False)]\n",
    "\n",
    "    converged = False\n",
    "    \n",
    "    currentIteration = 1\n",
    "\n",
    "    # for each iteration\n",
    "    while((not converged) and (currentIteration <= maxIterations)):\n",
    "\n",
    "        clusterList = [[] for i in range(len(centroids))]\n",
    "\n",
    "        for x in X:  # Go through each data point \n",
    "            \n",
    "            distancesList = []\n",
    "            \n",
    "            for centroid in centroids:\n",
    "                distancesList.append(getDistance(centroid, x))\n",
    "                \n",
    "            clusterList[int(np.argmin(distancesList))].append(x)\n",
    "\n",
    "        clusterList = list((filter(None, clusterList)))\n",
    "\n",
    "        prevCentroids = centroids.copy()\n",
    "\n",
    "        centroids = []\n",
    "\n",
    "        for j in range(len(clusterList)):\n",
    "            centroids.append(np.mean(clusterList[j], axis=0))\n",
    "\n",
    "        difference = np.abs(np.sum(prevCentroids) - np.sum(centroids))\n",
    "\n",
    "        print(f\"K-Means difference for {currentIteration} iterations: {int(difference)}\")\n",
    "\n",
    "        converged = (difference == 0)\n",
    "\n",
    "        currentIteration += 1\n",
    "\n",
    "    return np.array(centroids)"
   ]
  },
  {
   "cell_type": "code",
   "execution_count": 9,
   "metadata": {},
   "outputs": [],
   "source": [
    "class RBF:\n",
    "\n",
    "    def __init__(self, X_train, y_train, X_test, y_test, numOfClasses, numOfClusters):\n",
    "        self.X_train = X_train\n",
    "        self.y_train = y_train\n",
    "\n",
    "        self.X_test = X_test\n",
    "        self.y_test = y_test\n",
    "\n",
    "        self.numOfClasses = numOfClasses\n",
    "        self.numOfClusters = numOfClusters\n",
    "\n",
    "        \n",
    "    def convert_to_one_hot(self, x):\n",
    "        arr = np.zeros((len(x), self.numOfClasses))\n",
    "        for i in range(len(x)):\n",
    "            c = int(x[i])\n",
    "            arr[i][c] = 1\n",
    "        return arr\n",
    "\n",
    "    \n",
    "    def rbf(self, x, centroid, s):\n",
    "        distance = getDistance(x, centroid)\n",
    "        return 1 / np.exp(-distance / s ** 2)\n",
    "\n",
    "    \n",
    "    def calculateG(self, X):\n",
    "        RBF_list = []\n",
    "        for x in X:\n",
    "            RBF_list.append([self.rbf(x, c, s) for (c, s) in zip(self.centroids, self.std_list)])\n",
    "        return np.array(RBF_list)\n",
    "\n",
    "\n",
    "    def fit(self):\n",
    "\n",
    "        # calculate centroids\n",
    "        self.centroids = kmeans(self.X_train, self.numOfClusters)\n",
    "        print(self.centroids.shape)\n",
    "        # calculating standard deviation\n",
    "        dMax = np.max([getDistance(c1, c2) for c1 in self.centroids for c2 in self.centroids])\n",
    "        self.std_list = np.repeat(dMax / np.sqrt(2 * self.numOfClusters), self.numOfClusters)\n",
    "        \n",
    "        # training part\n",
    "       \n",
    "        G = self.calculateG(self.X_train)\n",
    "        print(\"hello\",G.shape)\n",
    "        GTG = np.dot(G.T, G)\n",
    "        \n",
    "        GTG_inv = np.linalg.inv(GTG)\n",
    "        \n",
    "        fac = np.dot(GTG_inv ,G.T)\n",
    "        \n",
    "        self.weights = np.dot(fac, self.convert_to_one_hot(self.y_train))\n",
    "        \n",
    "        # testing part\n",
    "        RBF_list_tst = self.calculateG(self.X_test)\n",
    "        print(RBF_list_tst.shape);\n",
    "        self.pred_ty = np.dot(RBF_list_tst, self.weights)\n",
    "\n",
    "        self.pred_ty = np.array([np.argmax(x) for x in self.pred_ty])\n",
    "\n",
    "        diff = self.pred_ty - self.y_test\n",
    "\n",
    "        \n",
    "        \n",
    "        print('Accuracy: ', len(np.where(diff == 0)[0]) / len(diff))\n"
   ]
  },
  {
   "cell_type": "code",
   "execution_count": 10,
   "metadata": {},
   "outputs": [
    {
     "name": "stdout",
     "output_type": "stream",
     "text": [
      "K-Means difference for 1 iterations: 1485\n",
      "K-Means difference for 2 iterations: 84\n",
      "K-Means difference for 3 iterations: 62\n",
      "K-Means difference for 4 iterations: 6\n",
      "K-Means difference for 5 iterations: 4\n",
      "K-Means difference for 6 iterations: 0\n",
      "(21, 2304)\n",
      "hello (105, 21)\n",
      "(45, 21)\n",
      "Accuracy:  0.8222222222222222\n"
     ]
    }
   ],
   "source": [
    "rbfClassifier = RBF(X_train, y_train, X_test, y_test, len(categories), 22)\n",
    "rbfClassifier.fit()\n",
    "\n"
   ]
  },
  {
   "cell_type": "code",
   "execution_count": 11,
   "metadata": {},
   "outputs": [
    {
     "data": {
      "text/plain": [
       "array([[-1.28194336,  0.20980528,  1.06603757],\n",
       "       [ 0.66546009, -1.22058144,  0.57061997],\n",
       "       [-0.05914437, -1.04582946,  0.99659663],\n",
       "       [ 0.8910222 , -1.05582053,  0.13425765],\n",
       "       [ 0.65153215,  0.99512547, -1.54482509],\n",
       "       [-0.55567335,  1.19726513, -0.63126209],\n",
       "       [-1.32385673, -0.44745475,  1.46434653],\n",
       "       [-0.00421788, -0.99807833,  1.03531435],\n",
       "       [ 0.05699998,  0.45290754, -0.48133967],\n",
       "       [ 0.6880107 ,  0.68566749, -0.87481681],\n",
       "       [ 0.35266211,  0.3883654 , -0.62207239],\n",
       "       [ 0.15356198, -0.55876426,  0.44096621],\n",
       "       [-0.28277654, -0.41443031,  0.93549761],\n",
       "       [-1.32083674,  0.65213002,  0.67411521],\n",
       "       [-0.62418125, -0.20838721,  0.83369487],\n",
       "       [ 3.2897888 , -0.39625218, -3.37611927],\n",
       "       [ 0.2929314 , -0.35978073,  0.1046936 ],\n",
       "       [ 2.26040954,  1.35089037, -3.6409582 ],\n",
       "       [-1.98333101,  0.05343386,  1.85876627],\n",
       "       [-1.15147201,  0.28176117,  0.99442164],\n",
       "       [-0.26152008,  0.37627167, -0.09594641]])"
      ]
     },
     "execution_count": 11,
     "metadata": {},
     "output_type": "execute_result"
    }
   ],
   "source": [
    "rbfClassifier.weights\n"
   ]
  },
  {
   "cell_type": "code",
   "execution_count": 12,
   "metadata": {},
   "outputs": [
    {
     "data": {
      "text/plain": [
       "array([5.23972808, 5.23972808, 5.23972808, 5.23972808, 5.23972808,\n",
       "       5.23972808, 5.23972808, 5.23972808, 5.23972808, 5.23972808,\n",
       "       5.23972808, 5.23972808, 5.23972808, 5.23972808, 5.23972808,\n",
       "       5.23972808, 5.23972808, 5.23972808, 5.23972808, 5.23972808,\n",
       "       5.23972808, 5.23972808])"
      ]
     },
     "execution_count": 12,
     "metadata": {},
     "output_type": "execute_result"
    }
   ],
   "source": [
    "rbfClassifier.std_list\n"
   ]
  },
  {
   "cell_type": "code",
   "execution_count": 13,
   "metadata": {},
   "outputs": [
    {
     "name": "stdout",
     "output_type": "stream",
     "text": [
      "(21, 2304)\n",
      "[[0.19215686 0.21176471 0.22352941 ... 0.09803922 0.10980392 0.08627451]\n",
      " [0.99607843 0.99607843 0.99607843 ... 0.99509804 0.99411765 0.99313725]\n",
      " [1.         0.98431373 0.70588235 ... 0.74117647 1.         0.99607843]\n",
      " ...\n",
      " [0.24509804 0.21699346 0.24117647 ... 0.5254902  0.53398693 0.52352941]\n",
      " [0.99843137 1.         1.         ... 0.99764706 0.99843137 0.99921569]\n",
      " [1.         1.         1.         ... 0.99215686 0.98823529 1.        ]]\n"
     ]
    }
   ],
   "source": [
    "print(rbfClassifier.centroids.shape)\n",
    "print(rbfClassifier.centroids)\n"
   ]
  },
  {
   "cell_type": "code",
   "execution_count": 14,
   "metadata": {
    "scrolled": false
   },
   "outputs": [
    {
     "name": "stdout",
     "output_type": "stream",
     "text": [
      "cluster 1 :\n",
      "crusier bikes = 1\n",
      "off road bikes = 0\n",
      "moped bikes = 0\n",
      "sum of bikes = 1\n",
      "------------------------------------\n",
      "cluster 2 :\n",
      "crusier bikes = 1\n",
      "off road bikes = 3\n",
      "moped bikes = 1\n",
      "sum of bikes = 5\n",
      "------------------------------------\n",
      "cluster 3 :\n",
      "crusier bikes = 0\n",
      "off road bikes = 0\n",
      "moped bikes = 1\n",
      "sum of bikes = 1\n",
      "------------------------------------\n",
      "cluster 4 :\n",
      "crusier bikes = 2\n",
      "off road bikes = 0\n",
      "moped bikes = 1\n",
      "sum of bikes = 3\n",
      "------------------------------------\n",
      "cluster 5 :\n",
      "crusier bikes = 5\n",
      "off road bikes = 3\n",
      "moped bikes = 1\n",
      "sum of bikes = 9\n",
      "------------------------------------\n",
      "cluster 6 :\n",
      "crusier bikes = 1\n",
      "off road bikes = 0\n",
      "moped bikes = 0\n",
      "sum of bikes = 1\n",
      "------------------------------------\n",
      "cluster 7 :\n",
      "crusier bikes = 5\n",
      "off road bikes = 0\n",
      "moped bikes = 5\n",
      "sum of bikes = 10\n",
      "------------------------------------\n",
      "cluster 8 :\n",
      "crusier bikes = 0\n",
      "off road bikes = 2\n",
      "moped bikes = 3\n",
      "sum of bikes = 5\n",
      "------------------------------------\n",
      "cluster 9 :\n",
      "crusier bikes = 1\n",
      "off road bikes = 0\n",
      "moped bikes = 0\n",
      "sum of bikes = 1\n",
      "------------------------------------\n",
      "cluster 10 :\n",
      "crusier bikes = 2\n",
      "off road bikes = 2\n",
      "moped bikes = 2\n",
      "sum of bikes = 6\n",
      "------------------------------------\n",
      "cluster 11 :\n",
      "crusier bikes = 0\n",
      "off road bikes = 2\n",
      "moped bikes = 0\n",
      "sum of bikes = 2\n",
      "------------------------------------\n",
      "cluster 12 :\n",
      "crusier bikes = 0\n",
      "off road bikes = 0\n",
      "moped bikes = 1\n",
      "sum of bikes = 1\n",
      "------------------------------------\n",
      "cluster 13 :\n",
      "crusier bikes = 11\n",
      "off road bikes = 15\n",
      "moped bikes = 9\n",
      "sum of bikes = 35\n",
      "------------------------------------\n",
      "cluster 14 :\n",
      "crusier bikes = 2\n",
      "off road bikes = 2\n",
      "moped bikes = 0\n",
      "sum of bikes = 4\n",
      "------------------------------------\n",
      "cluster 15 :\n",
      "crusier bikes = 1\n",
      "off road bikes = 0\n",
      "moped bikes = 0\n",
      "sum of bikes = 1\n",
      "------------------------------------\n",
      "cluster 16 :\n",
      "crusier bikes = 7\n",
      "off road bikes = 9\n",
      "moped bikes = 8\n",
      "sum of bikes = 24\n",
      "------------------------------------\n",
      "cluster 17 :\n",
      "crusier bikes = 3\n",
      "off road bikes = 0\n",
      "moped bikes = 3\n",
      "sum of bikes = 6\n",
      "------------------------------------\n",
      "cluster 18 :\n",
      "crusier bikes = 5\n",
      "off road bikes = 4\n",
      "moped bikes = 8\n",
      "sum of bikes = 17\n",
      "------------------------------------\n",
      "cluster 19 :\n",
      "crusier bikes = 0\n",
      "off road bikes = 5\n",
      "moped bikes = 3\n",
      "sum of bikes = 8\n",
      "------------------------------------\n",
      "cluster 20 :\n",
      "crusier bikes = 3\n",
      "off road bikes = 3\n",
      "moped bikes = 3\n",
      "sum of bikes = 9\n",
      "------------------------------------\n",
      "cluster 21 :\n",
      "crusier bikes = 0\n",
      "off road bikes = 0\n",
      "moped bikes = 1\n",
      "sum of bikes = 1\n",
      "------------------------------------\n",
      "cluster 22 :\n",
      "crusier bikes = 0\n",
      "off road bikes = 0\n",
      "moped bikes = 0\n",
      "sum of bikes = 0\n",
      "------------------------------------\n",
      "Total Number Of bikes= 150\n"
     ]
    }
   ],
   "source": [
    "Z=[[] for i in range(len(P_train))]\n",
    "K=[]\n",
    "\n",
    "for i in range(0,len(P_train)):\n",
    "    for j in range(0,len(rbfClassifier.centroids)):\n",
    "        d=(getDistance(P_train[i],rbfClassifier.centroids[j]))\n",
    "        Z[i].append(d)\n",
    "    q=min(Z[i])\n",
    "    K.append(Z[i].index(q)+1)\n",
    "cb=(list(zip(y,K)))\n",
    "#print(\"type and cluster belonging pair (type,cluster_number)\",cb)\n",
    "#print(cb)\n",
    "count1= [0 for i in range(0,22)]\n",
    "count2= [0 for i in range(0,22)]\n",
    "count3= [0 for i in range(0,22)]\n",
    "for i in range(0,22):\n",
    "    for j in range(len(K)):\n",
    "        if K[j]==(i+1):\n",
    "            if y[j]==0:\n",
    "                count1[i]=count1[i]+1\n",
    "            elif y[j]==1:\n",
    "                count2[i]=count2[i]+1\n",
    "            else:\n",
    "                count3[i]=count3[i]+1\n",
    "sum=0\n",
    "for i in range(0,22):\n",
    "    print(\"cluster\",i+1,\":\")\n",
    "    print(\"crusier bikes =\",count1[i])\n",
    "    print(\"off road bikes =\",count2[i])\n",
    "    print(\"moped bikes =\",count3[i])\n",
    "    print(\"sum of bikes =\",count1[i]+count2[i]+count3[i])\n",
    "    print(\"------------------------------------\")\n",
    "    sum=sum+count1[i]+count2[i]+count3[i]\n",
    "print(\"Total Number Of bikes=\",sum)\n",
    "        \n",
    "    \n",
    "    \n",
    "\n",
    "\n",
    "       \n"
   ]
  },
  {
   "cell_type": "code",
   "execution_count": null,
   "metadata": {},
   "outputs": [],
   "source": []
  }
 ],
 "metadata": {
  "kernelspec": {
   "display_name": "Python 3",
   "language": "python",
   "name": "python3"
  },
  "language_info": {
   "codemirror_mode": {
    "name": "ipython",
    "version": 3
   },
   "file_extension": ".py",
   "mimetype": "text/x-python",
   "name": "python",
   "nbconvert_exporter": "python",
   "pygments_lexer": "ipython3",
   "version": "3.7.3"
  }
 },
 "nbformat": 4,
 "nbformat_minor": 2
}
