{
 "cells": [
  {
   "cell_type": "code",
   "execution_count": 1,
   "metadata": {},
   "outputs": [],
   "source": [
    "import cv2\n",
    "import os"
   ]
  },
  {
   "cell_type": "code",
   "execution_count": 2,
   "metadata": {},
   "outputs": [
    {
     "data": {
      "text/plain": [
       "'/home/aditya/Documents/bikes'"
      ]
     },
     "execution_count": 2,
     "metadata": {},
     "output_type": "execute_result"
    }
   ],
   "source": [
    "\n",
    "\n",
    "# getting currenct working directory\n",
    "currentWorkingDirectory = os.getcwd()\n",
    "currentWorkingDirectory\n",
    "\n"
   ]
  },
  {
   "cell_type": "code",
   "execution_count": 3,
   "metadata": {},
   "outputs": [],
   "source": [
    "# adding all category to this list\n",
    "categories = [\"crusier\", \"off road bikes\", \"scooter\"]"
   ]
  },
  {
   "cell_type": "code",
   "execution_count": 4,
   "metadata": {},
   "outputs": [],
   "source": [
    "# for each of the category\n",
    "for category in categories:\n",
    "    \n",
    "    # changing the directory to each category\n",
    "    os.chdir(f\"{currentWorkingDirectory}/dataset/rawdata/{category}\")\n",
    "    \n",
    "    # for each image\n",
    "    for img in os.listdir():\n",
    "        \n",
    "        image = cv2.imread(img)  # read image\n",
    "        \n",
    "        gray = cv2.cvtColor(image, cv2.COLOR_BGR2GRAY)  # convert to grayscale\n",
    "        \n",
    "        \n",
    "        \n",
    "        \n",
    "        \n",
    "        GrayImage = cv2.resize(gray, (48, 48))  # resize to (48 * 48)\n",
    "        \n",
    "        # finally store to the preprocessed image to the directory\n",
    "        cv2.imwrite(f\"{currentWorkingDirectory}/dataset/preprocessedData/{category}/{img}\",GrayImage)\n"
   ]
  },
  {
   "cell_type": "code",
   "execution_count": 5,
   "metadata": {},
   "outputs": [],
   "source": [
    "# final change the directory to current working directory\n",
    "os.chdir(currentWorkingDirectory)"
   ]
  }
 ],
 "metadata": {
  "kernelspec": {
   "display_name": "Python 3",
   "language": "python",
   "name": "python3"
  },
  "language_info": {
   "codemirror_mode": {
    "name": "ipython",
    "version": 3
   },
   "file_extension": ".py",
   "mimetype": "text/x-python",
   "name": "python",
   "nbconvert_exporter": "python",
   "pygments_lexer": "ipython3",
   "version": "3.7.4"
  }
 },
 "nbformat": 4,
 "nbformat_minor": 2
}
